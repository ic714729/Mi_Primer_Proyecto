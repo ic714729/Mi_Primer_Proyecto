{
 "cells": [
  {
   "cell_type": "markdown",
   "metadata": {},
   "source": [
    "### Presentación"
   ]
  },
  {
   "cell_type": "markdown",
   "metadata": {},
   "source": [
    "- **Nombre:** Andrés Figueroa Gil\n",
    "- **Carrera:** <font color = red> **Ingeniería Civil** </font>\n",
    "- **Edad:** 20 años\n",
    "- **Pasatiempos:** Películas, series, piano, videojuegos y leer\n",
    "- **Educación:** ITESO"
   ]
  },
  {
   "cell_type": "markdown",
   "metadata": {},
   "source": [
    "### **Foto:**\n",
    "<img src=\"https://upload.wikimedia.org/wikipedia/commons/7/78/Brorfelde_landscape_2.jpg\" width=\"150px\" height=\"50px\" />"
   ]
  },
  {
   "cell_type": "code",
   "execution_count": null,
   "metadata": {},
   "outputs": [],
   "source": []
  }
 ],
 "metadata": {
  "kernelspec": {
   "display_name": "Python 3",
   "language": "python",
   "name": "python3"
  },
  "language_info": {
   "codemirror_mode": {
    "name": "ipython",
    "version": 3
   },
   "file_extension": ".py",
   "mimetype": "text/x-python",
   "name": "python",
   "nbconvert_exporter": "python",
   "pygments_lexer": "ipython3",
   "version": "3.6.5"
  }
 },
 "nbformat": 4,
 "nbformat_minor": 2
}
